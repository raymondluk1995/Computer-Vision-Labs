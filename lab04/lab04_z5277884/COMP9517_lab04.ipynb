{
 "cells": [
  {
   "cell_type": "markdown",
   "metadata": {},
   "source": [
    "<!-- ---------------------------------------------------- -->\n",
    "  <div class=\"col-sm-3 col-md-3 col-lg-3\">\n",
    "\t<!-- logo -->  \n",
    "    <div class=\"img-responsive\">\n",
    "      <img src=\"https://drive.google.com/uc?id=1Z28D9EByVRTyiKZspxKpRgckW7dVVnKi\">    \n",
    "    </div>\n",
    "\t<!-- logo -->\t\n",
    "  </div>\n",
    "<!-- ---------------------------------------------------- --> \n",
    "  <div class=\"col-sm-6 col-md-6 col-lg-6\">\n",
    "\t<!-- Assignment Info -->  \n",
    "        <center>\n",
    "        <h2>COMP9517 Computer Vision 20T2</h2>\n",
    "          <h3>Lab 04</h3>\n",
    "          <br>\n",
    "        <strong>Student Name: Raymond Lu<br>Student Number: z5277884</strong>\n",
    "    </center>\n",
    "    <!-- Assignment Info -->\t\n",
    "  </div>\n",
    "<!-- ---------------------------------------------------- -->"
   ]
  },
  {
   "cell_type": "markdown",
   "metadata": {
    "colab_type": "text",
    "id": "OzQRmrJE-Vzz"
   },
   "source": [
    "## 1. Set Up"
   ]
  },
  {
   "cell_type": "markdown",
   "metadata": {
    "colab_type": "text",
    "id": "gqFrr1aHPNEb"
   },
   "source": [
    "#### Tuning Parameters"
   ]
  },
  {
   "cell_type": "code",
   "execution_count": 28,
   "metadata": {
    "colab": {},
    "colab_type": "code",
    "id": "5MHJMBTjPK_g"
   },
   "outputs": [],
   "source": [
    "NEIGHBOR_NUM = 10\n",
    "TEST_SIZE = 0.25"
   ]
  },
  {
   "cell_type": "markdown",
   "metadata": {
    "colab_type": "text",
    "id": "_f8CLHd0-b3z"
   },
   "source": [
    "### Step 1 Import Relevant Packages"
   ]
  },
  {
   "cell_type": "code",
   "execution_count": 29,
   "metadata": {
    "colab": {},
    "colab_type": "code",
    "id": "3KN3opp-8UA4"
   },
   "outputs": [],
   "source": [
    "# packages introduced in the Lab Specification\n",
    "from sklearn import metrics\n",
    "from sklearn.datasets import load_digits \n",
    "from sklearn.model_selection import train_test_split \n",
    "from sklearn.neighbors import KNeighborsClassifier \n",
    "from sklearn.linear_model import SGDClassifier \n",
    "from sklearn.tree import DecisionTreeClassifier"
   ]
  },
  {
   "cell_type": "code",
   "execution_count": 30,
   "metadata": {
    "colab": {},
    "colab_type": "code",
    "id": "2XI8bFML8acZ"
   },
   "outputs": [],
   "source": [
    "# extra packages imported\n",
    "from matplotlib import pyplot as plt\n",
    "import numpy as np\n",
    "from sklearn.pipeline import make_pipeline \n",
    "from sklearn.preprocessing import StandardScaler\n",
    "from sklearn.metrics import accuracy_score, recall_score, confusion_matrix"
   ]
  },
  {
   "cell_type": "markdown",
   "metadata": {
    "colab_type": "text",
    "id": "jPg6_O6yCOtj"
   },
   "source": [
    "### Step 2 Load Image"
   ]
  },
  {
   "cell_type": "code",
   "execution_count": 31,
   "metadata": {
    "colab": {
     "base_uri": "https://localhost:8080/",
     "height": 352
    },
    "colab_type": "code",
    "id": "YXSVqlID8iti",
    "outputId": "eab2c01c-923f-4c7e-d88b-3d7ed20185fc"
   },
   "outputs": [
    {
     "name": "stdout",
     "output_type": "stream",
     "text": [
      "(1797, 64)\n"
     ]
    },
    {
     "data": {
      "text/plain": [
       "Text(0.5, 1.0, 'Label : 0\\n')"
      ]
     },
     "execution_count": 31,
     "metadata": {
      "tags": []
     },
     "output_type": "execute_result"
    },
    {
     "data": {
      "image/png": "[encoded data removed]",
      "text/plain": [
       "<Figure size 432x288 with 1 Axes>"
      ]
     },
     "metadata": {
      "needs_background": "light",
      "tags": []
     },
     "output_type": "display_data"
    }
   ],
   "source": [
    "digits = load_digits() \n",
    "print(digits.data.shape)\n",
    "plt.imshow(np.reshape(digits.data[0],(8,8)),cmap='gray') \n",
    "plt.title('Label : %i\\n'% digits.target[0],fontsize=25) "
   ]
  },
  {
   "cell_type": "markdown",
   "metadata": {
    "colab_type": "text",
    "id": "KzsisM5uCSlE"
   },
   "source": [
    "### Step 3 Split Images"
   ]
  },
  {
   "cell_type": "code",
   "execution_count": 32,
   "metadata": {
    "colab": {},
    "colab_type": "code",
    "id": "SztacVKd-O-i"
   },
   "outputs": [],
   "source": [
    "X = digits.data \n",
    "Y = digits.target \n",
    "X_train,X_test,Y_train,Y_test = train_test_split(X,Y,test_size=TEST_SIZE,random_state=42)"
   ]
  },
  {
   "cell_type": "markdown",
   "metadata": {
    "colab_type": "text",
    "id": "_W7iQfdLHJes"
   },
   "source": [
    "## 2. Classification"
   ]
  },
  {
   "cell_type": "markdown",
   "metadata": {
    "colab_type": "text",
    "id": "zASCnnKGHsLP"
   },
   "source": [
    "### Step 4 Initialize Models"
   ]
  },
  {
   "cell_type": "code",
   "execution_count": 33,
   "metadata": {
    "colab": {},
    "colab_type": "code",
    "id": "J2wQFZaqCY2F"
   },
   "outputs": [],
   "source": [
    "\n",
    "neigh = KNeighborsClassifier(n_neighbors=NEIGHBOR_NUM) \n",
    "sgd = make_pipeline(StandardScaler(),SGDClassifier(max_iter=1000,tol=1e-3)) \n",
    "dt = DecisionTreeClassifier(random_state=1) "
   ]
  },
  {
   "cell_type": "markdown",
   "metadata": {
    "colab_type": "text",
    "id": "3SzjDaO5JqHG"
   },
   "source": [
    "### Step 5 Fit the Models"
   ]
  },
  {
   "cell_type": "code",
   "execution_count": 34,
   "metadata": {
    "colab": {
     "base_uri": "https://localhost:8080/",
     "height": 119
    },
    "colab_type": "code",
    "id": "Bw85SUj_JZlu",
    "outputId": "c824d346-5610-4c66-cc7e-ae07fb12b590"
   },
   "outputs": [
    {
     "data": {
      "text/plain": [
       "DecisionTreeClassifier(ccp_alpha=0.0, class_weight=None, criterion='gini',\n",
       "                       max_depth=None, max_features=None, max_leaf_nodes=None,\n",
       "                       min_impurity_decrease=0.0, min_impurity_split=None,\n",
       "                       min_samples_leaf=1, min_samples_split=2,\n",
       "                       min_weight_fraction_leaf=0.0, presort='deprecated',\n",
       "                       random_state=1, splitter='best')"
      ]
     },
     "execution_count": 34,
     "metadata": {
      "tags": []
     },
     "output_type": "execute_result"
    }
   ],
   "source": [
    "neigh.fit(X_train,Y_train) \n",
    "sgd.fit(X_train,Y_train) \n",
    "dt.fit(X_train,Y_train) "
   ]
  },
  {
   "cell_type": "markdown",
   "metadata": {
    "colab_type": "text",
    "id": "YJ_lk3OaKXyF"
   },
   "source": [
    "### Step 6 Evaluate Test Data"
   ]
  },
  {
   "cell_type": "code",
   "execution_count": 35,
   "metadata": {
    "colab": {},
    "colab_type": "code",
    "id": "iO-Fu9_6KDCq"
   },
   "outputs": [],
   "source": [
    "neigh_pred = neigh.predict(X_test) \n",
    "sgd_pred = sgd.predict(X_test) \n",
    "dt_pred = dt.predict(X_test) "
   ]
  },
  {
   "cell_type": "markdown",
   "metadata": {
    "colab_type": "text",
    "id": "NWW7sP1mLK3w"
   },
   "source": [
    "### Step 7 Evaluation Performance"
   ]
  },
  {
   "cell_type": "code",
   "execution_count": 36,
   "metadata": {
    "colab": {
     "base_uri": "https://localhost:8080/",
     "height": 323
    },
    "colab_type": "code",
    "id": "mXVV8-FgLFE1",
    "outputId": "20587202-9d9b-49d5-82d0-cd3b96769732"
   },
   "outputs": [
    {
     "name": "stdout",
     "output_type": "stream",
     "text": [
      "COMP9517 Week 5 Lab - z5277884 \n",
      "\n",
      "Test size =  0.25\n",
      "KNN Accuracy:  0.9866666666666667 \t Recall:  0.9866666666666667\n",
      "SGD Accuracy:  0.9488888888888889 \t Recall:  0.9488888888888889\n",
      "DT Accuracy:  0.8822222222222222 \t Recall:  0.8822222222222222\n",
      "\n",
      " KNN Confusion Matrix:\n",
      "[[43  0  0  0  0  0  0  0  0  0]\n",
      " [ 0 37  0  0  0  0  0  0  0  0]\n",
      " [ 0  0 38  0  0  0  0  0  0  0]\n",
      " [ 0  0  0 46  0  0  0  0  0  0]\n",
      " [ 0  0  0  0 55  0  0  0  0  0]\n",
      " [ 0  0  0  0  0 57  1  0  0  1]\n",
      " [ 0  0  0  0  0  0 45  0  0  0]\n",
      " [ 0  0  0  0  0  0  0 41  0  0]\n",
      " [ 0  2  0  0  0  0  0  0 36  0]\n",
      " [ 0  0  0  0  1  1  0  0  0 46]]\n"
     ]
    }
   ],
   "source": [
    "print(\"COMP9517 Week 5 Lab - z5277884\",\"\\n\")\n",
    "print(\"Test size = \",TEST_SIZE) \n",
    "print(\"KNN Accuracy: \",accuracy_score(Y_test,neigh_pred),\n",
    "      \"\\t\",\"Recall: \",recall_score(Y_test,neigh_pred,average='micro')) \n",
    "print(\"SGD Accuracy: \",accuracy_score(Y_test,sgd_pred),\n",
    "      \"\\t\",\"Recall: \",recall_score(Y_test,sgd_pred,average='micro')) \n",
    "print(\"DT Accuracy: \",accuracy_score(Y_test,dt_pred),\n",
    "      \"\\t\",\"Recall: \",recall_score(Y_test,dt_pred,average='micro')) \n",
    "\n",
    "print(\"\\n\",\"KNN Confusion Matrix:\")\n",
    "num_labels = [i for i in range(10)]\n",
    "print(confusion_matrix(Y_test,neigh_pred,labels=num_labels))"
   ]
  },
  {
   "cell_type": "code",
   "execution_count": 36,
   "metadata": {
    "colab": {},
    "colab_type": "code",
    "id": "tOqPg2OLMnsS"
   },
   "outputs": [],
   "source": []
  }
 ],
 "metadata": {
  "colab": {
   "name": "COMP9517_lab04.ipynb",
   "provenance": []
  },
  "kernelspec": {
   "display_name": "Python 3",
   "language": "python",
   "name": "python3"
  },
  "language_info": {
   "codemirror_mode": {
    "name": "ipython",
    "version": 3
   },
   "file_extension": ".py",
   "mimetype": "text/x-python",
   "name": "python",
   "nbconvert_exporter": "python",
   "pygments_lexer": "ipython3",
   "version": "3.7.4"
  }
 },
 "nbformat": 4,
 "nbformat_minor": 1
}

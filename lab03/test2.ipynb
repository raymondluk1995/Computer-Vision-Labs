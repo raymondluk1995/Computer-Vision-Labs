{
 "cells": [
  {
   "cell_type": "code",
   "execution_count": 1,
   "metadata": {},
   "outputs": [],
   "source": [
    "import numpy as np\n",
    "import matplotlib.pyplot as plt\n",
    "import matplotlib.image as mpimg\n",
    "import cv2\n",
    "\n",
    "from scipy import ndimage as ndi\n",
    "from skimage.morphology import watershed,disk\n",
    "from skimage.feature import peak_local_max\n",
    "from sklearn.cluster import MeanShift\n",
    "from skimage import color,data,filters\n",
    "from PIL import Image"
   ]
  },
  {
   "cell_type": "code",
   "execution_count": 2,
   "metadata": {},
   "outputs": [],
   "source": [
    "size = 100, 100"
   ]
  },
  {
   "cell_type": "code",
   "execution_count": 3,
   "metadata": {},
   "outputs": [],
   "source": [
    "def contrast_stretching(img_I):\n",
    "    c = np.amin(img_I) # minimum pixel value occuring in image Input\n",
    "    d = np.amax(img_I) # maximum pixel value occuring in image Input\n",
    "    a = 0 # minimum pixel value allowed for an input image\n",
    "    b = 255 # minimum pixel value allowed for an input image\n",
    "    img_O = (img_I-c*np.ones(img_I.shape,np.uint8))*((b-a)/(d-c))+a \n",
    "    return (img_O)\n",
    "\n",
    "# Show image\n",
    "def show_img(img):\n",
    "    fig = plt.figure(figsize=(12, 8), dpi= 80, facecolor='w', edgecolor='k')\n",
    "    img_plot = plt.imshow(img.astype('uint8'))\n",
    "    plt.show()"
   ]
  },
  {
   "cell_type": "code",
   "execution_count": 46,
   "metadata": {},
   "outputs": [],
   "source": [
    "img = Image.open(\"coins.png\")\n",
    "img.thumbnail(size)\n",
    "img = np.array(img)\n",
    "gray = cv2.cvtColor(img,cv2.COLOR_RGB2GRAY)\n",
    "gray = cv2.normalize(gray,None,0,255,norm_type=cv2.NORM_MINMAX)\n",
    "thresh,img_bw = cv2.threshold(gray,0,255,cv2.THRESH_OTSU)"
   ]
  },
  {
   "cell_type": "code",
   "execution_count": 47,
   "metadata": {},
   "outputs": [],
   "source": [
    "distance = ndi.distance_transform_edt(img_bw)\n",
    "local_max = peak_local_max(distance,indices=False,footprint=np.ones((3,3)),labels=img_bw)\n",
    "markers = ndi.label(local_max)[0]\n",
    "ws_labels = watershed(-distance,markers,mask=img_bw)"
   ]
  },
  {
   "cell_type": "code",
   "execution_count": 48,
   "metadata": {},
   "outputs": [
    {
     "data": {
      "text/plain": [
       "<matplotlib.image.AxesImage at 0x1c2df6f0d0>"
      ]
     },
     "execution_count": 48,
     "metadata": {},
     "output_type": "execute_result"
    },
    {
     "data": {
      "image/png": "[encoded data removed]",
      "text/plain": [
       "<Figure size 432x288 with 1 Axes>"
      ]
     },
     "metadata": {
      "needs_background": "light"
     },
     "output_type": "display_data"
    }
   ],
   "source": [
    "plt.imshow(ws_labels)"
   ]
  },
  {
   "cell_type": "code",
   "execution_count": null,
   "metadata": {},
   "outputs": [],
   "source": []
  }
 ],
 "metadata": {
  "kernelspec": {
   "display_name": "Python 3",
   "language": "python",
   "name": "python3"
  },
  "language_info": {
   "codemirror_mode": {
    "name": "ipython",
    "version": 3
   },
   "file_extension": ".py",
   "mimetype": "text/x-python",
   "name": "python",
   "nbconvert_exporter": "python",
   "pygments_lexer": "ipython3",
   "version": "3.7.4"
  }
 },
 "nbformat": 4,
 "nbformat_minor": 2
}
